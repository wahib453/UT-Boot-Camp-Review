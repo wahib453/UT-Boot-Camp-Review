{
 "cells": [
  {
   "cell_type": "markdown",
   "id": "ed606293",
   "metadata": {},
   "source": [
    "# Overview of Functions"
   ]
  },
  {
   "cell_type": "markdown",
   "id": "97685037",
   "metadata": {},
   "source": [
    "When writing algorithms that perform a repetitive task, like getting grade averages over and over again, it's a best practice to convert the algorithm to a function. A function is a smaller, more manageable piece of code.\n",
    "\n",
    "Long algorithms can increase the chance of syntax errors and repeated variable assignments, which can lead to programming headaches—especially if your code is more than 200 lines. Breaking your code into manageable pieces has many advantages. You can:\n",
    "\n",
    "Debug and fix errors faster.\n",
    "Make your code more readable.\n",
    "Reuse code by importing functions into other algorithms.\n",
    "Speed up programming development. Multiple team members can work on separate functions of a complex algorithm to speed up the development of the project."
   ]
  },
  {
   "cell_type": "code",
   "execution_count": 1,
   "id": "1b6e0478",
   "metadata": {},
   "outputs": [],
   "source": [
    "# define the function 'say_hello' so it prints 'Hello!' when called.\n",
    "def say_hello():\n",
    "    print('Hello!')"
   ]
  },
  {
   "cell_type": "code",
   "execution_count": 2,
   "id": "d5acf5a8",
   "metadata": {},
   "outputs": [
    {
     "name": "stdout",
     "output_type": "stream",
     "text": [
      "Hello!\n"
     ]
    }
   ],
   "source": [
    "# call the function.\n",
    "say_hello()"
   ]
  },
  {
   "cell_type": "code",
   "execution_count": 3,
   "id": "e4c7a47d",
   "metadata": {},
   "outputs": [],
   "source": [
    "# define the function 'say_something' so it prints whatever is passed as the variable when called.\n",
    "def say_something(something):\n",
    "    print(something)"
   ]
  },
  {
   "cell_type": "code",
   "execution_count": 7,
   "id": "00536e9d",
   "metadata": {},
   "outputs": [
    {
     "name": "stdout",
     "output_type": "stream",
     "text": [
      "Hello WOrld!\n"
     ]
    }
   ],
   "source": [
    "# call the function.\n",
    "say_something('Hello WOrld!')"
   ]
  },
  {
   "cell_type": "code",
   "execution_count": 8,
   "id": "a75f238f",
   "metadata": {},
   "outputs": [
    {
     "name": "stdout",
     "output_type": "stream",
     "text": [
      "7\n"
     ]
    }
   ],
   "source": [
    "# call the function.\n",
    "say_something(2 + 5)"
   ]
  },
  {
   "cell_type": "code",
   "execution_count": 10,
   "id": "dcd335eb",
   "metadata": {},
   "outputs": [
    {
     "name": "stdout",
     "output_type": "stream",
     "text": [
      "Hi, my name is Jane. I'm learning Python!\n"
     ]
    }
   ],
   "source": [
    "# call the function.\n",
    "Jane_says = \"Hi, my name is Jane. I'm learning Python!\" \n",
    "say_something(Jane_says)"
   ]
  },
  {
   "cell_type": "markdown",
   "id": "6568ae31",
   "metadata": {},
   "source": [
    "## The Pandas map() Function\n",
    "The map() function is used for substituting each value in a Series with another value. Where the new value is generated from a function, a dictionary, or a Series. Let's look at an example of the map() function"
   ]
  },
  {
   "cell_type": "code",
   "execution_count": 11,
   "id": "857c1d9c",
   "metadata": {},
   "outputs": [],
   "source": [
    "# A list of my grades.\n",
    "my_grades = ['B', 'C', 'B' , 'D']"
   ]
  },
  {
   "cell_type": "markdown",
   "id": "77673c6f",
   "metadata": {},
   "source": [
    "Next, we'll import Pandas and convert the list to a Series."
   ]
  },
  {
   "cell_type": "code",
   "execution_count": 12,
   "id": "d3350a64",
   "metadata": {},
   "outputs": [
    {
     "data": {
      "text/plain": [
       "0    B\n",
       "1    C\n",
       "2    B\n",
       "3    D\n",
       "dtype: object"
      ]
     },
     "execution_count": 12,
     "metadata": {},
     "output_type": "execute_result"
    }
   ],
   "source": [
    "# Import pandas.\n",
    "import pandas as pd\n",
    "# Convert the my_grades to a Series\n",
    "my_grades = pd.Series(my_grades)\n",
    "my_grades"
   ]
  },
  {
   "cell_type": "markdown",
   "id": "2ecb0a06",
   "metadata": {},
   "source": [
    "Using the map() function we are going to change B to A, C to B, and D to C. To change each string value in this Series to another value using the following format.\n",
    "\n",
    "map(\"current_value_1\" : \"new_value_1\",  \"current_value_2\" : \"new_value_2\", etc)"
   ]
  },
  {
   "cell_type": "code",
   "execution_count": 15,
   "id": "c50ff137",
   "metadata": {},
   "outputs": [
    {
     "data": {
      "text/plain": [
       "0    A\n",
       "1    B\n",
       "2    A\n",
       "3    C\n",
       "dtype: object"
      ]
     },
     "execution_count": 15,
     "metadata": {},
     "output_type": "execute_result"
    }
   ],
   "source": [
    "# Change the grades by one letter grade.\n",
    "my_grades.map({'B': 'A', 'C': 'B', 'D': 'C'})"
   ]
  },
  {
   "cell_type": "markdown",
   "id": "88de24cb",
   "metadata": {},
   "source": [
    "## The Python format() Function"
   ]
  },
  {
   "cell_type": "markdown",
   "id": "159e0a77",
   "metadata": {},
   "source": [
    "The Python format() function is used to format a value to a specific format, such as one or two decimal places, or adding a thousands separator. This function follows this syntax: \n",
    "\n",
    "\"{value:format specification}\".format(value)\n",
    "\n",
    "Let's look at an example of the format() function."
   ]
  },
  {
   "cell_type": "code",
   "execution_count": 16,
   "id": "3e460c56",
   "metadata": {},
   "outputs": [
    {
     "name": "stdout",
     "output_type": "stream",
     "text": [
      "92\n",
      "85\n",
      "87\n",
      "98\n"
     ]
    }
   ],
   "source": [
    "# Using the format() function.\n",
    "my_grades = [92.34, 84.56, 86.78, 98.32]\n",
    "\n",
    "for grade in my_grades:\n",
    "    print(\"{:.0f}\".format(grade))"
   ]
  },
  {
   "cell_type": "markdown",
   "id": "c90029d8",
   "metadata": {},
   "source": [
    "## Chaining the map() and format() Functions"
   ]
  },
  {
   "cell_type": "markdown",
   "id": "8785cb7b",
   "metadata": {},
   "source": [
    "We also apply the format() function to a Series or column in a DataFrame by chaining the map() and format() functions."
   ]
  },
  {
   "cell_type": "markdown",
   "id": "4165cf62",
   "metadata": {},
   "source": [
    "First let's convert the numerical grades array to a Series with the following code:"
   ]
  },
  {
   "cell_type": "code",
   "execution_count": 17,
   "id": "2c8bea19",
   "metadata": {},
   "outputs": [
    {
     "data": {
      "text/plain": [
       "0    92.34\n",
       "1    84.56\n",
       "2    86.78\n",
       "3    78.32\n",
       "dtype: float64"
      ]
     },
     "execution_count": 17,
     "metadata": {},
     "output_type": "execute_result"
    }
   ],
   "source": [
    "# Convert the numerical grades to a Series.\n",
    "my_grades = pd.Series([92.34, 84.56, 86.78, 78.32])\n",
    "my_grades"
   ]
  },
  {
   "cell_type": "markdown",
   "id": "e8d09252",
   "metadata": {},
   "source": [
    "Next, we can format the numerical grades to the nearest whole number percent as shown in the output after running the following line of code:"
   ]
  },
  {
   "cell_type": "code",
   "execution_count": 18,
   "id": "80f8c7d5",
   "metadata": {},
   "outputs": [
    {
     "data": {
      "text/plain": [
       "0    92\n",
       "1    85\n",
       "2    87\n",
       "3    78\n",
       "dtype: object"
      ]
     },
     "execution_count": 18,
     "metadata": {},
     "output_type": "execute_result"
    }
   ],
   "source": [
    "# Format the grades to the nearest whole number percent.\n",
    "my_grades.map(\"{:.0f}\".format)"
   ]
  },
  {
   "cell_type": "code",
   "execution_count": 19,
   "id": "c72b1d04",
   "metadata": {},
   "outputs": [
    {
     "data": {
      "text/plain": [
       "0     abubakar\n",
       "1         musa\n",
       "2    dan daodo\n",
       "3        aisha\n",
       "4        amina\n",
       "5      gabriel\n",
       "dtype: object"
      ]
     },
     "execution_count": 19,
     "metadata": {},
     "output_type": "execute_result"
    }
   ],
   "source": [
    "# Practice\n",
    "names_of_ppl = ['abubakar', 'musa', 'dan daodo', 'aisha', 'amina', 'gabriel']\n",
    "\n",
    "# First step: convert the names of ppl to series\n",
    "import pandas as pd\n",
    "names_of_ppl_series = pd.Series(names_of_ppl) \n",
    "names_of_ppl_series"
   ]
  },
  {
   "cell_type": "code",
   "execution_count": 21,
   "id": "30bb2bc5",
   "metadata": {},
   "outputs": [
    {
     "data": {
      "text/plain": [
       "0     isaac\n",
       "1    joseph\n",
       "2       NaN\n",
       "3    alisha\n",
       "4    zainab\n",
       "5     henna\n",
       "dtype: object"
      ]
     },
     "execution_count": 21,
     "metadata": {},
     "output_type": "execute_result"
    }
   ],
   "source": [
    "names_of_ppl_series.map({'abubakar': 'isaac', 'musa': 'joseph', 'aisha':'alisha', 'amina':'zainab', 'gabriel':'henna'})"
   ]
  },
  {
   "cell_type": "markdown",
   "id": "7a393269",
   "metadata": {},
   "source": [
    "## Reorder Columns"
   ]
  },
  {
   "cell_type": "code",
   "execution_count": null,
   "id": "07418803",
   "metadata": {},
   "outputs": [],
   "source": []
  }
 ],
 "metadata": {
  "kernelspec": {
   "display_name": "PythonEnv",
   "language": "python",
   "name": "pythonenv"
  },
  "language_info": {
   "codemirror_mode": {
    "name": "ipython",
    "version": 3
   },
   "file_extension": ".py",
   "mimetype": "text/x-python",
   "name": "python",
   "nbconvert_exporter": "python",
   "pygments_lexer": "ipython3",
   "version": "3.7.11"
  }
 },
 "nbformat": 4,
 "nbformat_minor": 5
}
