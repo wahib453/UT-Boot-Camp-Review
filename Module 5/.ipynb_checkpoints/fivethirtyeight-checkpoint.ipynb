{
 "cells": [
  {
   "cell_type": "code",
   "execution_count": null,
   "metadata": {},
   "outputs": [],
   "source": [
    "%matplotlib inline"
   ]
  },
  {
   "cell_type": "markdown",
   "metadata": {},
   "source": [
    "\n",
    "# FiveThirtyEight style sheet\n",
    "\n",
    "This shows an example of the \"fivethirtyeight\" styling, which\n",
    "tries to replicate the styles from FiveThirtyEight.com.\n"
   ]
  },
  {
   "cell_type": "code",
   "execution_count": null,
   "metadata": {},
   "outputs": [],
   "source": [
    "import matplotlib.pyplot as plt\n",
    "import numpy as np\n",
    "\n",
    "\n",
    "plt.style.use('fivethirtyeight')\n",
    "\n",
    "x = np.linspace(0, 10)\n",
    "\n",
    "# Fixing random state for reproducibility\n",
    "np.random.seed(19680801)\n",
    "\n",
    "fig, ax = plt.subplots()\n",
    "\n",
    "ax.plot(x, np.sin(x) + x + np.random.randn(50))\n",
    "ax.plot(x, np.sin(x) + 0.5 * x + np.random.randn(50))\n",
    "ax.plot(x, np.sin(x) + 2 * x + np.random.randn(50))\n",
    "ax.plot(x, np.sin(x) - 0.5 * x + np.random.randn(50))\n",
    "ax.plot(x, np.sin(x) - 2 * x + np.random.randn(50))\n",
    "ax.plot(x, np.sin(x) + np.random.randn(50))\n",
    "ax.set_title(\"'fivethirtyeight' style sheet\")\n",
    "\n",
    "plt.show()"
   ]
  }
 ],
 "metadata": {
  "kernelspec": {
   "display_name": "PythonEnv",
   "language": "python",
   "name": "pythonenv"
  },
  "language_info": {
   "codemirror_mode": {
    "name": "ipython",
    "version": 3
   },
   "file_extension": ".py",
   "mimetype": "text/x-python",
   "name": "python",
   "nbconvert_exporter": "python",
   "pygments_lexer": "ipython3",
   "version": "3.7.11"
  }
 },
 "nbformat": 4,
 "nbformat_minor": 1
}
